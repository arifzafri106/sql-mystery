{
 "cells": [
  {
   "cell_type": "code",
   "execution_count": 1,
   "id": "315db25d",
   "metadata": {},
   "outputs": [],
   "source": [
    "%load_ext sql"
   ]
  },
  {
   "cell_type": "markdown",
   "id": "0afbd341",
   "metadata": {},
   "source": [
    "<img src ='SQL-question.png'>"
   ]
  },
  {
   "cell_type": "markdown",
   "id": "08e26671",
   "metadata": {},
   "source": [
    "<img src ='sql schema.png'>"
   ]
  },
  {
   "cell_type": "code",
   "execution_count": 2,
   "id": "12e8d48c",
   "metadata": {
    "scrolled": true
   },
   "outputs": [],
   "source": [
    "%sql sqlite:///sql-murder-mystery.db"
   ]
  },
  {
   "cell_type": "code",
   "execution_count": 6,
   "id": "32394dab",
   "metadata": {},
   "outputs": [
    {
     "name": "stdout",
     "output_type": "stream",
     "text": [
      " * sqlite:///sql-murder-mystery.db\n",
      "Done.\n"
     ]
    },
    {
     "data": {
      "text/html": [
       "<table>\n",
       "    <tr>\n",
       "        <th>name</th>\n",
       "    </tr>\n",
       "    <tr>\n",
       "        <td>crime_scene_report</td>\n",
       "    </tr>\n",
       "    <tr>\n",
       "        <td>drivers_license</td>\n",
       "    </tr>\n",
       "    <tr>\n",
       "        <td>person</td>\n",
       "    </tr>\n",
       "    <tr>\n",
       "        <td>facebook_event_checkin</td>\n",
       "    </tr>\n",
       "    <tr>\n",
       "        <td>interview</td>\n",
       "    </tr>\n",
       "    <tr>\n",
       "        <td>get_fit_now_member</td>\n",
       "    </tr>\n",
       "    <tr>\n",
       "        <td>get_fit_now_check_in</td>\n",
       "    </tr>\n",
       "    <tr>\n",
       "        <td>income</td>\n",
       "    </tr>\n",
       "    <tr>\n",
       "        <td>solution</td>\n",
       "    </tr>\n",
       "</table>"
      ],
      "text/plain": [
       "[('crime_scene_report',),\n",
       " ('drivers_license',),\n",
       " ('person',),\n",
       " ('facebook_event_checkin',),\n",
       " ('interview',),\n",
       " ('get_fit_now_member',),\n",
       " ('get_fit_now_check_in',),\n",
       " ('income',),\n",
       " ('solution',)]"
      ]
     },
     "execution_count": 6,
     "metadata": {},
     "output_type": "execute_result"
    }
   ],
   "source": [
    "%%sql\n",
    "SELECT name \n",
    "FROM sqlite_master\n",
    "where type = 'table'"
   ]
  },
  {
   "cell_type": "code",
   "execution_count": 7,
   "id": "00589564",
   "metadata": {},
   "outputs": [
    {
     "name": "stdout",
     "output_type": "stream",
     "text": [
      " * sqlite:///sql-murder-mystery.db\n",
      "Done.\n"
     ]
    },
    {
     "data": {
      "text/html": [
       "<table>\n",
       "    <tr>\n",
       "        <th>date</th>\n",
       "        <th>type</th>\n",
       "        <th>description</th>\n",
       "        <th>city</th>\n",
       "    </tr>\n",
       "    <tr>\n",
       "        <td>20180115</td>\n",
       "        <td>robbery</td>\n",
       "        <td>A Man Dressed as Spider-Man Is on a Robbery Spree</td>\n",
       "        <td>NYC</td>\n",
       "    </tr>\n",
       "    <tr>\n",
       "        <td>20180115</td>\n",
       "        <td>murder</td>\n",
       "        <td>Life? Dont talk to me about life.</td>\n",
       "        <td>Albany</td>\n",
       "    </tr>\n",
       "    <tr>\n",
       "        <td>20180115</td>\n",
       "        <td>murder</td>\n",
       "        <td>Mama, I killed a man, put a gun against his head...</td>\n",
       "        <td>Reno</td>\n",
       "    </tr>\n",
       "    <tr>\n",
       "        <td>20180215</td>\n",
       "        <td>murder</td>\n",
       "        <td>REDACTED REDACTED REDACTED</td>\n",
       "        <td>SQL City</td>\n",
       "    </tr>\n",
       "    <tr>\n",
       "        <td>20180215</td>\n",
       "        <td>murder</td>\n",
       "        <td>Someone killed the guard! He took an arrow to the knee!</td>\n",
       "        <td>SQL City</td>\n",
       "    </tr>\n",
       "</table>"
      ],
      "text/plain": [
       "[(20180115, 'robbery', 'A Man Dressed as Spider-Man Is on a Robbery Spree', 'NYC'),\n",
       " (20180115, 'murder', 'Life? Dont talk to me about life.', 'Albany'),\n",
       " (20180115, 'murder', 'Mama, I killed a man, put a gun against his head...', 'Reno'),\n",
       " (20180215, 'murder', 'REDACTED REDACTED REDACTED', 'SQL City'),\n",
       " (20180215, 'murder', 'Someone killed the guard! He took an arrow to the knee!', 'SQL City')]"
      ]
     },
     "execution_count": 7,
     "metadata": {},
     "output_type": "execute_result"
    }
   ],
   "source": [
    "%%sql\n",
    "SELECT *\n",
    "FROM crime_scene_report \n",
    "LIMIT 5"
   ]
  },
  {
   "cell_type": "code",
   "execution_count": 8,
   "id": "2c399d7c",
   "metadata": {},
   "outputs": [
    {
     "name": "stdout",
     "output_type": "stream",
     "text": [
      " * sqlite:///sql-murder-mystery.db\n",
      "Done.\n"
     ]
    },
    {
     "data": {
      "text/html": [
       "<table>\n",
       "    <tr>\n",
       "        <th>date</th>\n",
       "        <th>type</th>\n",
       "        <th>description</th>\n",
       "        <th>city</th>\n",
       "    </tr>\n",
       "    <tr>\n",
       "        <td>20180115</td>\n",
       "        <td>assault</td>\n",
       "        <td>Hamilton: Lee, do you yield? Burr: You shot him in the side! Yes he yields!</td>\n",
       "        <td>SQL City</td>\n",
       "    </tr>\n",
       "    <tr>\n",
       "        <td>20180115</td>\n",
       "        <td>assault</td>\n",
       "        <td>Report Not Found</td>\n",
       "        <td>SQL City</td>\n",
       "    </tr>\n",
       "    <tr>\n",
       "        <td>20180115</td>\n",
       "        <td>murder</td>\n",
       "        <td>Security footage shows that there were 2 witnesses. The first witness lives at the last house on &quot;Northwestern Dr&quot;. The second witness, named Annabel, lives somewhere on &quot;Franklin Ave&quot;.</td>\n",
       "        <td>SQL City</td>\n",
       "    </tr>\n",
       "</table>"
      ],
      "text/plain": [
       "[(20180115, 'assault', 'Hamilton: Lee, do you yield? Burr: You shot him in the side! Yes he yields!', 'SQL City'),\n",
       " (20180115, 'assault', 'Report Not Found', 'SQL City'),\n",
       " (20180115, 'murder', 'Security footage shows that there were 2 witnesses. The first witness lives at the last house on \"Northwestern Dr\". The second witness, named Annabel, lives somewhere on \"Franklin Ave\".', 'SQL City')]"
      ]
     },
     "execution_count": 8,
     "metadata": {},
     "output_type": "execute_result"
    }
   ],
   "source": [
    "%%sql\n",
    "SELECT *\n",
    "FROM crime_scene_report \n",
    "WHERE city == 'SQL City' and date == '20180115'"
   ]
  },
  {
   "cell_type": "code",
   "execution_count": 10,
   "id": "8d85780e",
   "metadata": {},
   "outputs": [
    {
     "name": "stdout",
     "output_type": "stream",
     "text": [
      " * sqlite:///sql-murder-mystery.db\n",
      "Done.\n"
     ]
    },
    {
     "data": {
      "text/html": [
       "<table>\n",
       "    <tr>\n",
       "        <th>date</th>\n",
       "        <th>type</th>\n",
       "        <th>description</th>\n",
       "        <th>city</th>\n",
       "    </tr>\n",
       "    <tr>\n",
       "        <td>20180115</td>\n",
       "        <td>assault</td>\n",
       "        <td>Hamilton: Lee, do you yield? Burr: You shot him in the side! Yes he yields!</td>\n",
       "        <td>SQL City</td>\n",
       "    </tr>\n",
       "    <tr>\n",
       "        <td>20180115</td>\n",
       "        <td>assault</td>\n",
       "        <td>Report Not Found</td>\n",
       "        <td>SQL City</td>\n",
       "    </tr>\n",
       "    <tr>\n",
       "        <td>20180115</td>\n",
       "        <td>murder</td>\n",
       "        <td>Security footage shows that there were 2 witnesses. The first witness lives at the last house on &quot;Northwestern Dr&quot;. The second witness, named Annabel, lives somewhere on &quot;Franklin Ave&quot;.</td>\n",
       "        <td>SQL City</td>\n",
       "    </tr>\n",
       "</table>"
      ],
      "text/plain": [
       "[(20180115, 'assault', 'Hamilton: Lee, do you yield? Burr: You shot him in the side! Yes he yields!', 'SQL City'),\n",
       " (20180115, 'assault', 'Report Not Found', 'SQL City'),\n",
       " (20180115, 'murder', 'Security footage shows that there were 2 witnesses. The first witness lives at the last house on \"Northwestern Dr\". The second witness, named Annabel, lives somewhere on \"Franklin Ave\".', 'SQL City')]"
      ]
     },
     "execution_count": 10,
     "metadata": {},
     "output_type": "execute_result"
    }
   ],
   "source": [
    "%%sql\n",
    "SELECT *\n",
    "FROM crime_scene_report \n",
    "WHERE city == 'SQL City' and date == '20180115'"
   ]
  },
  {
   "cell_type": "code",
   "execution_count": 33,
   "id": "f47092ea",
   "metadata": {},
   "outputs": [
    {
     "name": "stdout",
     "output_type": "stream",
     "text": [
      " * sqlite:///sql-murder-mystery.db\n",
      "Done.\n"
     ]
    },
    {
     "data": {
      "text/html": [
       "<table>\n",
       "    <tr>\n",
       "        <th>id</th>\n",
       "        <th>name</th>\n",
       "        <th>license_id</th>\n",
       "        <th>address_number</th>\n",
       "        <th>address_street_name</th>\n",
       "        <th>ssn</th>\n",
       "        <th>person_id</th>\n",
       "        <th>transcript</th>\n",
       "    </tr>\n",
       "    <tr>\n",
       "        <td>16371</td>\n",
       "        <td>Annabel Miller</td>\n",
       "        <td>490173</td>\n",
       "        <td>103</td>\n",
       "        <td>Franklin Ave</td>\n",
       "        <td>318771143</td>\n",
       "        <td>16371</td>\n",
       "        <td>I saw the murder happen, and I recognized the killer from my gym when I was working out last week on January the 9th.</td>\n",
       "    </tr>\n",
       "</table>"
      ],
      "text/plain": [
       "[(16371, 'Annabel Miller', 490173, 103, 'Franklin Ave', 318771143, 16371, 'I saw the murder happen, and I recognized the killer from my gym when I was working out last week on January the 9th.')]"
      ]
     },
     "execution_count": 33,
     "metadata": {},
     "output_type": "execute_result"
    }
   ],
   "source": [
    "%%sql\n",
    "SELECT *\n",
    "FROM person as p\n",
    "JOIN interview as i\n",
    "ON i.person_id = p.id\n",
    "WHERE (name like '%Annabel%') AND (address_street_name == 'Franklin Ave')\n"
   ]
  },
  {
   "cell_type": "code",
   "execution_count": 39,
   "id": "ce29c46a",
   "metadata": {},
   "outputs": [
    {
     "name": "stdout",
     "output_type": "stream",
     "text": [
      " * sqlite:///sql-murder-mystery.db\n",
      "Done.\n"
     ]
    },
    {
     "data": {
      "text/html": [
       "<table>\n",
       "    <tr>\n",
       "        <th>id</th>\n",
       "        <th>name</th>\n",
       "        <th>license_id</th>\n",
       "        <th>address_number</th>\n",
       "        <th>address_street_name</th>\n",
       "        <th>ssn</th>\n",
       "        <th>person_id</th>\n",
       "        <th>transcript</th>\n",
       "    </tr>\n",
       "    <tr>\n",
       "        <td>14887</td>\n",
       "        <td>Morty Schapiro</td>\n",
       "        <td>118009</td>\n",
       "        <td>4919</td>\n",
       "        <td>Northwestern Dr</td>\n",
       "        <td>111564949</td>\n",
       "        <td>14887</td>\n",
       "        <td>I heard a gunshot and then saw a man run out. He had a &quot;Get Fit Now Gym&quot; bag. The membership number on the bag started with &quot;48Z&quot;. Only gold members have those bags. The man got into a car with a plate that included &quot;H42W&quot;.</td>\n",
       "    </tr>\n",
       "</table>"
      ],
      "text/plain": [
       "[(14887, 'Morty Schapiro', 118009, 4919, 'Northwestern Dr', 111564949, 14887, 'I heard a gunshot and then saw a man run out. He had a \"Get Fit Now Gym\" bag. The membership number on the bag started with \"48Z\". Only gold members have those bags. The man got into a car with a plate that included \"H42W\".')]"
      ]
     },
     "execution_count": 39,
     "metadata": {},
     "output_type": "execute_result"
    }
   ],
   "source": [
    "%%sql\n",
    "SELECT *\n",
    "FROM person as p\n",
    "JOIN interview as i\n",
    "ON i.person_id = p.id\n",
    "WHERE address_street_name == 'Northwestern Dr'\n",
    "ORDER BY address_number DESC\n",
    "LIMIT 1"
   ]
  },
  {
   "cell_type": "code",
   "execution_count": 46,
   "id": "6bf52402",
   "metadata": {},
   "outputs": [
    {
     "name": "stdout",
     "output_type": "stream",
     "text": [
      " * sqlite:///sql-murder-mystery.db\n",
      "Done.\n"
     ]
    },
    {
     "data": {
      "text/html": [
       "<table>\n",
       "    <tr>\n",
       "        <th>membership_id</th>\n",
       "        <th>check_in_date</th>\n",
       "        <th>check_in_time</th>\n",
       "        <th>check_out_time</th>\n",
       "        <th>id</th>\n",
       "        <th>person_id</th>\n",
       "        <th>name</th>\n",
       "        <th>membership_start_date</th>\n",
       "        <th>membership_status</th>\n",
       "    </tr>\n",
       "    <tr>\n",
       "        <td>48Z7A</td>\n",
       "        <td>20180109</td>\n",
       "        <td>1600</td>\n",
       "        <td>1730</td>\n",
       "        <td>48Z7A</td>\n",
       "        <td>28819</td>\n",
       "        <td>Joe Germuska</td>\n",
       "        <td>20160305</td>\n",
       "        <td>gold</td>\n",
       "    </tr>\n",
       "    <tr>\n",
       "        <td>48Z55</td>\n",
       "        <td>20180109</td>\n",
       "        <td>1530</td>\n",
       "        <td>1700</td>\n",
       "        <td>48Z55</td>\n",
       "        <td>67318</td>\n",
       "        <td>Jeremy Bowers</td>\n",
       "        <td>20160101</td>\n",
       "        <td>gold</td>\n",
       "    </tr>\n",
       "</table>"
      ],
      "text/plain": [
       "[('48Z7A', 20180109, 1600, 1730, '48Z7A', 28819, 'Joe Germuska', 20160305, 'gold'),\n",
       " ('48Z55', 20180109, 1530, 1700, '48Z55', 67318, 'Jeremy Bowers', 20160101, 'gold')]"
      ]
     },
     "execution_count": 46,
     "metadata": {},
     "output_type": "execute_result"
    }
   ],
   "source": [
    "%%sql\n",
    "SELECT * \n",
    "FROM get_fit_now_check_in as gc\n",
    "JOIN get_fit_now_member as gm\n",
    "ON gc.membership_id == gm.id\n",
    "WHERE (check_in_date == '20180109') and (membership_status == 'gold') and (gm.id like '48Z%')"
   ]
  },
  {
   "cell_type": "code",
   "execution_count": 53,
   "id": "52520a8b",
   "metadata": {},
   "outputs": [
    {
     "name": "stdout",
     "output_type": "stream",
     "text": [
      " * sqlite:///sql-murder-mystery.db\n",
      "Done.\n"
     ]
    },
    {
     "data": {
      "text/html": [
       "<table>\n",
       "    <tr>\n",
       "        <th>id</th>\n",
       "        <th>person_id</th>\n",
       "        <th>name</th>\n",
       "        <th>membership_start_date</th>\n",
       "        <th>membership_status</th>\n",
       "        <th>id_1</th>\n",
       "        <th>name_1</th>\n",
       "        <th>license_id</th>\n",
       "        <th>address_number</th>\n",
       "        <th>address_street_name</th>\n",
       "        <th>ssn</th>\n",
       "    </tr>\n",
       "    <tr>\n",
       "        <td>48Z7A</td>\n",
       "        <td>28819</td>\n",
       "        <td>Joe Germuska</td>\n",
       "        <td>20160305</td>\n",
       "        <td>gold</td>\n",
       "        <td>28819</td>\n",
       "        <td>Joe Germuska</td>\n",
       "        <td>173289</td>\n",
       "        <td>111</td>\n",
       "        <td>Fisk Rd</td>\n",
       "        <td>138909730</td>\n",
       "    </tr>\n",
       "    <tr>\n",
       "        <td>48Z55</td>\n",
       "        <td>67318</td>\n",
       "        <td>Jeremy Bowers</td>\n",
       "        <td>20160101</td>\n",
       "        <td>gold</td>\n",
       "        <td>67318</td>\n",
       "        <td>Jeremy Bowers</td>\n",
       "        <td>423327</td>\n",
       "        <td>530</td>\n",
       "        <td>Washington Pl, Apt 3A</td>\n",
       "        <td>871539279</td>\n",
       "    </tr>\n",
       "</table>"
      ],
      "text/plain": [
       "[('48Z7A', 28819, 'Joe Germuska', 20160305, 'gold', 28819, 'Joe Germuska', 173289, 111, 'Fisk Rd', 138909730),\n",
       " ('48Z55', 67318, 'Jeremy Bowers', 20160101, 'gold', 67318, 'Jeremy Bowers', 423327, 530, 'Washington Pl, Apt 3A', 871539279)]"
      ]
     },
     "execution_count": 53,
     "metadata": {},
     "output_type": "execute_result"
    }
   ],
   "source": [
    "%%sql\n",
    "SELECT * \n",
    "FROM get_fit_now_member as gm\n",
    "JOIN person as p\n",
    "ON p.id == gm.person_id\n",
    "WHERE p.name == \"Joe Germuska\" OR p.name == \"Jeremy Bowers\""
   ]
  },
  {
   "cell_type": "code",
   "execution_count": 59,
   "id": "14c9f350",
   "metadata": {},
   "outputs": [
    {
     "name": "stdout",
     "output_type": "stream",
     "text": [
      " * sqlite:///sql-murder-mystery.db\n",
      "Done.\n"
     ]
    },
    {
     "data": {
      "text/html": [
       "<table>\n",
       "    <tr>\n",
       "        <th>id</th>\n",
       "        <th>name</th>\n",
       "        <th>license_id</th>\n",
       "        <th>address_number</th>\n",
       "        <th>address_street_name</th>\n",
       "        <th>ssn</th>\n",
       "        <th>id_1</th>\n",
       "        <th>age</th>\n",
       "        <th>height</th>\n",
       "        <th>eye_color</th>\n",
       "        <th>hair_color</th>\n",
       "        <th>gender</th>\n",
       "        <th>plate_number</th>\n",
       "        <th>car_make</th>\n",
       "        <th>car_model</th>\n",
       "    </tr>\n",
       "    <tr>\n",
       "        <td>67318</td>\n",
       "        <td>Jeremy Bowers</td>\n",
       "        <td>423327</td>\n",
       "        <td>530</td>\n",
       "        <td>Washington Pl, Apt 3A</td>\n",
       "        <td>871539279</td>\n",
       "        <td>423327</td>\n",
       "        <td>30</td>\n",
       "        <td>70</td>\n",
       "        <td>brown</td>\n",
       "        <td>brown</td>\n",
       "        <td>male</td>\n",
       "        <td>0H42W2</td>\n",
       "        <td>Chevrolet</td>\n",
       "        <td>Spark LS</td>\n",
       "    </tr>\n",
       "</table>"
      ],
      "text/plain": [
       "[(67318, 'Jeremy Bowers', 423327, 530, 'Washington Pl, Apt 3A', 871539279, 423327, 30, 70, 'brown', 'brown', 'male', '0H42W2', 'Chevrolet', 'Spark LS')]"
      ]
     },
     "execution_count": 59,
     "metadata": {},
     "output_type": "execute_result"
    }
   ],
   "source": [
    "%%sql\n",
    "SELECT * \n",
    "FROM person as p\n",
    "JOIN drivers_license as dl\n",
    "ON p.license_id == dl.id\n",
    "WHERE dl.id == 173289 OR dl.id == 423327"
   ]
  },
  {
   "cell_type": "markdown",
   "id": "97da2a8b",
   "metadata": {},
   "source": [
    "Jeremy Bowers is the murderer"
   ]
  },
  {
   "cell_type": "code",
   "execution_count": null,
   "id": "87dfb413",
   "metadata": {},
   "outputs": [],
   "source": []
  }
 ],
 "metadata": {
  "kernelspec": {
   "display_name": "Python 3",
   "language": "python",
   "name": "python3"
  },
  "language_info": {
   "codemirror_mode": {
    "name": "ipython",
    "version": 3
   },
   "file_extension": ".py",
   "mimetype": "text/x-python",
   "name": "python",
   "nbconvert_exporter": "python",
   "pygments_lexer": "ipython3",
   "version": "3.8.8"
  }
 },
 "nbformat": 4,
 "nbformat_minor": 5
}
